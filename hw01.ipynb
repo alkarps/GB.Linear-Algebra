{
  "nbformat": 4,
  "nbformat_minor": 0,
  "metadata": {
    "colab": {
      "provenance": [],
      "collapsed_sections": [
        "v5wRRlYrN1gq",
        "w4LZAkzDN3TQ",
        "uu8E0hZJOGUE",
        "Nx-HpJMxOLmS",
        "w3XYcq8GORzN",
        "zpi9A7kROUZq",
        "3MmxJJf2ZUDe",
        "-qN6ZPkmZY7R"
      ],
      "authorship_tag": "ABX9TyMLSqcq7jSe7kRDkYjHGQRJ",
      "include_colab_link": true
    },
    "kernelspec": {
      "name": "python3",
      "display_name": "Python 3"
    },
    "language_info": {
      "name": "python"
    }
  },
  "cells": [
    {
      "cell_type": "markdown",
      "metadata": {
        "id": "view-in-github",
        "colab_type": "text"
      },
      "source": [
        "<a href=\"https://colab.research.google.com/github/alkarps/GB.Linear-Algebra/blob/hw01/hw01.ipynb\" target=\"_parent\"><img src=\"https://colab.research.google.com/assets/colab-badge.svg\" alt=\"Open In Colab\"/></a>"
      ]
    },
    {
      "cell_type": "markdown",
      "source": [
        "# Линейное пространство. Основные понятия. Часть 1"
      ],
      "metadata": {
        "id": "v5wRRlYrN1gq"
      }
    },
    {
      "cell_type": "markdown",
      "source": [
        "### Задача №1"
      ],
      "metadata": {
        "id": "w4LZAkzDN3TQ"
      }
    },
    {
      "cell_type": "markdown",
      "source": [
        "Исследуйте на линейную зависимость:\n",
        "\n",
        "$$f_{1}(x)=e^{x}, f_{2}(x)=1, f_{3}(x)=x+1, f_{4}(x)=x-e^{x}.$$"
      ],
      "metadata": {
        "id": "iXWLqU0WOB4A"
      }
    },
    {
      "cell_type": "markdown",
      "source": [
        "Заметим, что любая функция выражается через сумму других:\n",
        "$$f_{1}(x)=e^{x} = f_{3}(x) - f_{2}(x) - f_{4}(x)= 1 - (x + 1) - (x-e^{x}).$$\n",
        "Следовательно функции линейно зависимые"
      ],
      "metadata": {
        "id": "Fx-OUc_1QE78"
      }
    },
    {
      "cell_type": "markdown",
      "source": [
        "### Задача №2"
      ],
      "metadata": {
        "id": "uu8E0hZJOGUE"
      }
    },
    {
      "cell_type": "markdown",
      "source": [
        "Исследуйте на линейную зависимость:\n",
        "$$f_{1}(x)=2, f_{2}(x)=x, f_{3}(x)=x^{2}, f_{4}(x)=(x+1)^{2}$$"
      ],
      "metadata": {
        "id": "RZKG1VD6OKU5"
      }
    },
    {
      "cell_type": "markdown",
      "source": [
        "Заметим, что любую функцию можно предстваить как сумма других:\n",
        "$$f_{1}(x) = 2 = 2*f_{4}(x) - 2*f_{3}(x) - 4*f_{2}(x) = 2*(x+1)^{2} - 2*x^2 - 4*x.$$\n",
        "Следовательно функции линейно зависимые"
      ],
      "metadata": {
        "id": "dEfeX4hXQyBa"
      }
    },
    {
      "cell_type": "markdown",
      "source": [
        "### Задача №3"
      ],
      "metadata": {
        "id": "Nx-HpJMxOLmS"
      }
    },
    {
      "cell_type": "markdown",
      "source": [
        "Найдите координаты вектора $x = (2, 3, 5)\\in \\mathbb{R}^{3}$ в базисе $b_{1}=(0, 0, 10)$, $b_{2}=(2, 0, 0)$, $b_{3}=(0, 1, 0)$."
      ],
      "metadata": {
        "id": "n3iXewE0OQjv"
      }
    },
    {
      "cell_type": "markdown",
      "source": [
        "$$ x = (2, 3, 5) = b_{2} + 3*b_{1} + 0.5*b_{1}=(2, 0, 0) + 3*(0, 1, 0) + 0.5*(0, 0, 10) = (2,0,0) + (0,3,0) + (0,0,5) = (2,3,5).$$\n",
        "Следовательно координаты $x = (2, 3, 5)$ в базисе $b_{1}=(0, 0, 10)$, $b_{2}=(2, 0, 0)$, $b_{3}=(0, 1, 0)$ будут $x = (0.5, 1, 3)$"
      ],
      "metadata": {
        "id": "x09wLUILSLRV"
      }
    },
    {
      "cell_type": "markdown",
      "source": [
        "### Задача №4"
      ],
      "metadata": {
        "id": "w3XYcq8GORzN"
      }
    },
    {
      "cell_type": "markdown",
      "source": [
        "Найдите координаты вектора $3x^{2}-2x+2\\in\\mathbb{R}^{3}[x]$:\n",
        "\n",
        "а) в базисе $1$, $x$, $x^{2}$;\n",
        "\n",
        "б) в базисе $x^{2}$, $x-1$, $1$."
      ],
      "metadata": {
        "id": "06ae18fwOTir"
      }
    },
    {
      "cell_type": "markdown",
      "source": [
        "Координаты вектора $3x^{2}-2x+2\\in\\mathbb{R}^{3}[x]$\n",
        "\n",
        "а) в базисе $1$, $x$, $x^{2}$ будут равны $(2,-2,3)$;\n",
        "\n",
        "б) в базисе $x^{2}$, $x-1$, $1$ будут равны $(3,-2,0)$."
      ],
      "metadata": {
        "id": "uIb_YKXqTrGM"
      }
    },
    {
      "cell_type": "markdown",
      "source": [
        "### Задача №5"
      ],
      "metadata": {
        "id": "zpi9A7kROUZq"
      }
    },
    {
      "cell_type": "markdown",
      "source": [
        "Установите, считается ли линейным подпространством:\n",
        "\n",
        "а) совокупность всех векторов трёхмерного пространства, у которых по крайней мере одна из первых двух координат равна нулю;\n",
        "    \n",
        "б) все векторы, считающиеся линейными комбинациями данных векторов $\\{u_{1}, u_{2} \\ldots, u_{n}\\}$."
      ],
      "metadata": {
        "id": "385L-23rOVQ3"
      }
    },
    {
      "cell_type": "markdown",
      "source": [
        "Совокупность всех векторов трёхмерного пространства, у которых по крайней мере одна из первых двух координат равна нулю не будет считаться линейным подпространством, тк вектор суммы $(0,a,b)$ и $(c,0,d)$, принадлежащее заданной совокупности дает вектор $(c,a,b+d)$, не входящий в заданную совокупности"
      ],
      "metadata": {
        "id": "QAAd_UzeUehe"
      }
    },
    {
      "cell_type": "markdown",
      "source": [
        "Все векторы, считающиеся линейными комбинациями данных векторов $\\{u_{1}, u_{2} \\ldots, u_{n}\\}$ является линейным подпространством. Это связанно с тем, что сумма векторов будет линейная комбинация из оставшихся векторов данного пространства, а произведение на сколяр будет произведения суммы оставшихся векторов на этот же сколяр, что так же будет принадлежать данному подпространству."
      ],
      "metadata": {
        "id": "oTLXDuBSWjSb"
      }
    },
    {
      "cell_type": "markdown",
      "source": [
        "# Линейное пространство. Основные понятия. Часть 2"
      ],
      "metadata": {
        "id": "39DNsbIkZMzz"
      }
    },
    {
      "cell_type": "markdown",
      "source": [
        "### Задача №1"
      ],
      "metadata": {
        "id": "3MmxJJf2ZUDe"
      }
    },
    {
      "cell_type": "markdown",
      "source": [
        "Найдите скалярное произведение векторов $x, y \\in \\mathbb{R}$:<br>\n",
        "а) $x=(0,-3, 6),~y=(-4, 7, 9);$<br>\n",
        "б) $x=(7, -4, 0, 1),~y=(-3, 1, 11, 2).$"
      ],
      "metadata": {
        "id": "8tBkFhPuZYbQ"
      }
    },
    {
      "cell_type": "markdown",
      "source": [
        "а) $(x,y) = 0*(-4) + (-3)*7 + 6*9 = -21 + 54 = 33$"
      ],
      "metadata": {
        "id": "D6J4ijOOZ3k5"
      }
    },
    {
      "cell_type": "markdown",
      "source": [
        "б) $(x,y) = 7*(-3) + (-4)*1 + 0*11 + 1*2 = -21 -4 +  2 = -23$"
      ],
      "metadata": {
        "id": "dnEJoRSXaQK3"
      }
    },
    {
      "cell_type": "markdown",
      "source": [
        "### Задача №2"
      ],
      "metadata": {
        "id": "-qN6ZPkmZY7R"
      }
    },
    {
      "cell_type": "markdown",
      "source": [
        "Найдите нормы векторов $(4, 2, 4)$ и $(12, 3, 4)$ и угол между ними."
      ],
      "metadata": {
        "id": "eeTQ-RisZhY1"
      }
    },
    {
      "cell_type": "code",
      "source": [
        "import numpy as np\n",
        "from numpy.linalg import norm\n",
        "a = np.array([4, 2, 4])\n",
        "b = np.array([12, 3, 4])\n",
        "a_norm = norm(a, ord=1)\n",
        "b_norm = norm(b, ord=1)\n",
        "a_ev_norm = norm(a, ord=2)\n",
        "b_ev_norm = norm(b, ord=2)\n",
        "cos_phi = np.dot(a, b) / norm(a) / norm(b)\n",
        "(a_norm, b_norm, a_ev_norm,b_ev_norm,cos_phi)"
      ],
      "metadata": {
        "colab": {
          "base_uri": "https://localhost:8080/"
        },
        "id": "fox6wZfMaxCM",
        "outputId": "5e59e32d-79a7-4fb0-d5e0-366aa2c2ee7c"
      },
      "execution_count": null,
      "outputs": [
        {
          "output_type": "execute_result",
          "data": {
            "text/plain": [
              "(10.0, 19.0, 6.0, 13.0, 0.8974358974358974)"
            ]
          },
          "metadata": {},
          "execution_count": 3
        }
      ]
    },
    {
      "cell_type": "markdown",
      "source": [
        "### Задача №3"
      ],
      "metadata": {
        "id": "WrrZhpAHZZqn"
      }
    },
    {
      "cell_type": "markdown",
      "source": [
        "Определите, будет ли линейное пространство евклидовым, если за скалярное произведение принять:<br>\n",
        "а) произведение длин векторов;<br>\n",
        "б) утроенное обычное скалярное произведение векторов?<br>"
      ],
      "metadata": {
        "id": "xYm_0UqAZj8v"
      }
    },
    {
      "cell_type": "markdown",
      "source": [
        "Если за скалярное произведение принять произведение длин векторов, то такое пространство не будет евклидовым, тк не выполняется 3я аксиома."
      ],
      "metadata": {
        "id": "e6zdy7fXc6nC"
      }
    },
    {
      "cell_type": "markdown",
      "source": [
        "Тк для обычного сколярного произведения векторов выполняется условие существования линейного евклидова пространства, то оно так же будет выполняться и для утроенного обычного сколярного произведения векторов"
      ],
      "metadata": {
        "id": "NYEzZLFSeLGi"
      }
    },
    {
      "cell_type": "markdown",
      "source": [
        "### Задача №4"
      ],
      "metadata": {
        "id": "9z6gzUV6ZazW"
      }
    },
    {
      "cell_type": "code",
      "source": [
        "def calc_basis(vectors):\n",
        "  return [[i.dot(j) for j in vectors] for i in vectors]"
      ],
      "metadata": {
        "id": "PFN7yQ3zjNn7"
      },
      "execution_count": null,
      "outputs": []
    },
    {
      "cell_type": "markdown",
      "source": [
        "Выясните, какие из нижеперечисленных векторов образуют ортонормированный базис в линейном пространстве $\\mathbb{R}^{3}$:<br>\n",
        "а) $(1,0,0),(0,0,1);$ <br>\n",
        "б) $(1/\\sqrt{2},-1/\\sqrt{2},0),(1/\\sqrt{2},1/\\sqrt{2},0), (0,0,1);$<br>\n",
        "в) $(1/2, -1/2, 0), (0, 1/2, 1/2), (0,0,1);$<br>\n",
        "г) $(1,0,0),(0,1,0),(0,0,1)?$ "
      ],
      "metadata": {
        "id": "kM_oqo9DZors"
      }
    },
    {
      "cell_type": "markdown",
      "source": [
        "а) Образуют ортонормированный базис, но не являются базисом в заданном пространстве"
      ],
      "metadata": {
        "id": "PuF9pH8bfSk2"
      }
    },
    {
      "cell_type": "markdown",
      "source": [
        "б) Образуют ортонормированный базис:"
      ],
      "metadata": {
        "id": "8p9XkZyvj6yF"
      }
    },
    {
      "cell_type": "code",
      "source": [
        "a = np.array([1/(2**0.5),-1/(2**0.5), 0])\n",
        "b = np.array([1/(2**0.5),1/(2**0.5), 0])\n",
        "c = np.array([0,0,1])\n",
        "calc_basis([a,b,c])"
      ],
      "metadata": {
        "colab": {
          "base_uri": "https://localhost:8080/"
        },
        "id": "Bog8B1xLin2j",
        "outputId": "cb5b9686-62dc-4f68-fe01-64a5536e6e27"
      },
      "execution_count": null,
      "outputs": [
        {
          "output_type": "execute_result",
          "data": {
            "text/plain": [
              "[[0.9999999999999998, 0.0, 0.0], [0.0, 0.9999999999999998, 0.0], [0.0, 0.0, 1]]"
            ]
          },
          "metadata": {},
          "execution_count": 9
        }
      ]
    },
    {
      "cell_type": "markdown",
      "source": [
        "в) Не образуют ортонормированный базис:"
      ],
      "metadata": {
        "id": "cbNK-VwCinYg"
      }
    },
    {
      "cell_type": "code",
      "source": [
        "a = np.array([1/2,-1/2, 0])\n",
        "b = np.array([0,1/2,1/2])\n",
        "c = np.array([0,0,1])\n",
        "calc_basis([a,b,c])"
      ],
      "metadata": {
        "colab": {
          "base_uri": "https://localhost:8080/"
        },
        "id": "oetlTHnNkCTP",
        "outputId": "915b6555-83ee-471b-e4c1-82f5a76754ae"
      },
      "execution_count": null,
      "outputs": [
        {
          "output_type": "execute_result",
          "data": {
            "text/plain": [
              "[[0.5, -0.25, 0.0], [-0.25, 0.5, 0.5], [0.0, 0.5, 1]]"
            ]
          },
          "metadata": {},
          "execution_count": 10
        }
      ]
    },
    {
      "cell_type": "markdown",
      "source": [
        "г) Образуют ортонормированный базис"
      ],
      "metadata": {
        "id": "qp2csZ_5kSmr"
      }
    },
    {
      "cell_type": "code",
      "source": [
        "a = np.array([1,0, 0])\n",
        "b = np.array([0,1,0])\n",
        "c = np.array([0,0,1])\n",
        "calc_basis([a,b,c])"
      ],
      "metadata": {
        "colab": {
          "base_uri": "https://localhost:8080/"
        },
        "id": "c8-2eYjTkS34",
        "outputId": "a70b9ecb-414f-434e-b5ec-44afa12f4902"
      },
      "execution_count": null,
      "outputs": [
        {
          "output_type": "execute_result",
          "data": {
            "text/plain": [
              "[[1, 0, 0], [0, 1, 0], [0, 0, 1]]"
            ]
          },
          "metadata": {},
          "execution_count": 11
        }
      ]
    }
  ]
}