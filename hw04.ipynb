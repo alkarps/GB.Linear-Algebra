{
  "nbformat": 4,
  "nbformat_minor": 0,
  "metadata": {
    "colab": {
      "provenance": [],
      "authorship_tag": "ABX9TyNgcXM4xkt/cNIAEQv2jzrQ",
      "include_colab_link": true
    },
    "kernelspec": {
      "name": "python3",
      "display_name": "Python 3"
    },
    "language_info": {
      "name": "python"
    }
  },
  "cells": [
    {
      "cell_type": "markdown",
      "metadata": {
        "id": "view-in-github",
        "colab_type": "text"
      },
      "source": [
        "<a href=\"https://colab.research.google.com/github/alkarps/GB.Linear-Algebra/blob/hw04/hw04.ipynb\" target=\"_parent\"><img src=\"https://colab.research.google.com/assets/colab-badge.svg\" alt=\"Open In Colab\"/></a>"
      ]
    },
    {
      "cell_type": "code",
      "source": [
        "import numpy as np"
      ],
      "metadata": {
        "id": "XFOQP7UYf-lB"
      },
      "execution_count": null,
      "outputs": []
    },
    {
      "cell_type": "markdown",
      "source": [
        "# Системы линейных уравнений. Часть 1"
      ],
      "metadata": {
        "id": "ItcX6mfKSEb4"
      }
    },
    {
      "cell_type": "markdown",
      "source": [
        "### Задание №1"
      ],
      "metadata": {
        "id": "eBuAb12jSFft"
      }
    },
    {
      "cell_type": "markdown",
      "source": [
        "Решите систему уравнений методом Гаусса:\n",
        "\n",
        "$$\\begin{cases}\n",
        "x_{1}+x_{2}-x_{3}-2x_{4}=0, \\\\\n",
        "2x_{1}+x_{2}-x_{3}+x_{4}=-2, \\\\\n",
        "x_{1}+x_{2}-3x_{3}+x_{4}=4.\n",
        "\\end{cases}$$"
      ],
      "metadata": {
        "id": "GwlNIM9dSPDd"
      }
    },
    {
      "cell_type": "markdown",
      "source": [
        "Данная система уровнений не совместная, тк на 3 уровнения присутствует 4 переменных."
      ],
      "metadata": {
        "id": "D_AEcTRSW3eE"
      }
    },
    {
      "cell_type": "markdown",
      "source": [
        "### Задание №2"
      ],
      "metadata": {
        "id": "zFLf7r-qSPbh"
      }
    },
    {
      "cell_type": "markdown",
      "source": [
        "Проверьте на совместность и выясните, сколько решений будет иметь система линейных уравнений:\n",
        "\n",
        "   а) $\\begin{cases}\n",
        "3x_{1}-x_{2}+x_{3}=4, \\\\\n",
        "2x_{1}-5x_{2}-3x_{3}=-17, \\\\\n",
        "x_{1}+x_{2}-x_{3}=0;\n",
        "\\end{cases}$\n",
        "    \n",
        "   б) $\\begin{cases}\n",
        "2x_{1}-4x_{2}+6x_{3}=1, \\\\\n",
        "x_{1}-2x_{2}+3x_{3}=-2, \\\\\n",
        "3x_{1}-6x_{2}+9x_{3}=5;\n",
        "\\end{cases}$\n",
        "    \n",
        "   в) $\\begin{cases}\n",
        "x_{1}+2x_{2}+5x_{3}=4, \\\\\n",
        "3x_{1}+x_{2}-8x_{3}=-2. \n",
        "\\end{cases}$"
      ],
      "metadata": {
        "id": "HOnuReVISP5l"
      }
    },
    {
      "cell_type": "markdown",
      "source": [
        "а) Система уровнений $$\\begin{cases}\n",
        "3x_{1}-x_{2}+x_{3}=4, \\\\\n",
        "2x_{1}-5x_{2}-3x_{3}=-17, \\\\\n",
        "x_{1}+x_{2}-x_{3}=0;\n",
        "\\end{cases}$$ и имеет следующее решение.\n",
        "\n",
        "$$\\begin{pmatrix}\n",
        "\\left.\\begin{matrix}\n",
        "3 & -1 & 1 \\\\ \n",
        "2 & -5 & -3 \\\\ \n",
        "1 & 1 & -1\n",
        "\\end{matrix}\\right|\n",
        "\\begin{matrix}\n",
        "4\\\\ \n",
        "-17\\\\\n",
        "0\n",
        "\\end{matrix}\n",
        "\\end{pmatrix}.$$\n",
        "Вычтем 3е уровнение из 1го, поможенного на 3, и из 2го, помноженного на 2:\n",
        "$$\\begin{pmatrix}\n",
        "\\left.\\begin{matrix}\n",
        "0 & -4 & 4 \\\\ \n",
        "0 & -7 & -1 \\\\ \n",
        "1 & 1 & -1\n",
        "\\end{matrix}\\right|\n",
        "\\begin{matrix}\n",
        "4\\\\ \n",
        "-17\\\\\n",
        "0\n",
        "\\end{matrix}\n",
        "\\end{pmatrix}.$$\n",
        "Разделим 1е уровнение на 4:\n",
        "$$\\begin{pmatrix}\n",
        "\\left.\\begin{matrix}\n",
        "0 & -1 & 1 \\\\ \n",
        "0 & -7 & -1 \\\\ \n",
        "1 & 1 & -1\n",
        "\\end{matrix}\\right|\n",
        "\\begin{matrix}\n",
        "1\\\\ \n",
        "-17\\\\\n",
        "0\n",
        "\\end{matrix}\n",
        "\\end{pmatrix}.$$\n",
        "Вычтем 1е уровнение из 2го, помноженное на 7:\n",
        "$$\\begin{pmatrix}\n",
        "\\left.\\begin{matrix}\n",
        "0 & -1 & 1 \\\\ \n",
        "0 & 0 & -8 \\\\ \n",
        "1 & 1 & -1\n",
        "\\end{matrix}\\right|\n",
        "\\begin{matrix}\n",
        "1\\\\ \n",
        "-24\\\\\n",
        "0\n",
        "\\end{matrix}\n",
        "\\end{pmatrix}.$$\n",
        "Разделим 2е уровнение на -8:\n",
        "$$\\begin{pmatrix}\n",
        "\\left.\\begin{matrix}\n",
        "0 & -1 & 1 \\\\ \n",
        "0 & 0 & 1 \\\\ \n",
        "1 & 1 & -1\n",
        "\\end{matrix}\\right|\n",
        "\\begin{matrix}\n",
        "1\\\\ \n",
        "3\\\\\n",
        "0\n",
        "\\end{matrix}\n",
        "\\end{pmatrix}.$$"
      ],
      "metadata": {
        "id": "LXHcQHR9Y0kQ"
      }
    },
    {
      "cell_type": "markdown",
      "source": [
        "Получаем систему уравнени:\n",
        "$$\\begin{cases}\n",
        "x_{1}+x_{2}-x_{3}=0, \\\\\n",
        "-x_{2}+x_{3}=1, \\\\\n",
        "x_{3}=3;\n",
        "\\end{cases}$$\n",
        "\n",
        "Следовательно $x_{3}=3$, $x_{2}=2$ и $x_{1}=1$."
      ],
      "metadata": {
        "id": "X6KNLgjxalx5"
      }
    },
    {
      "cell_type": "markdown",
      "source": [
        "б) Система уровнени $$\\begin{cases}\n",
        "2x_{1}-4x_{2}+6x_{3}=1, \\\\\n",
        "x_{1}-2x_{2}+3x_{3}=-2, \\\\\n",
        "3x_{1}-6x_{2}+9x_{3}=5;\n",
        "\\end{cases}$$ не совместна, тк привычитании 2 уровнения, помноженного на 3, из 3го получается $0 = 11$, то не имеет смысла."
      ],
      "metadata": {
        "id": "UA19DIi_YYa5"
      }
    },
    {
      "cell_type": "markdown",
      "source": [
        "в) Система уровнений $$\\begin{cases}\n",
        "x_{1}+2x_{2}+5x_{3}=4, \\\\\n",
        "3x_{1}+x_{2}-8x_{3}=-2. \n",
        "\\end{cases}$$ не совместна, тк на 2 уровнения имеет 3 переменных."
      ],
      "metadata": {
        "id": "J1XoYBFxYMdq"
      }
    },
    {
      "cell_type": "markdown",
      "source": [
        "### Задание №3"
      ],
      "metadata": {
        "id": "vMB9rrtKSQSu"
      }
    },
    {
      "cell_type": "markdown",
      "source": [
        "Проверьте на совместность и выясните, сколько решений будет иметь система линейных уравнений, заданная расширенной матрицей:\n",
        "\n",
        "$$\\tilde{A}=\\begin{pmatrix}\n",
        "\\left.\\begin{matrix}\n",
        "1 & 3 & -2 & 4\\\\ \n",
        "0 & 5 & 0 & 1\\\\ \n",
        "0 & 0 & 3 & 0\\\\ \n",
        "0 & 0 & 0 & 2\n",
        "\\end{matrix}\\right|\n",
        "\\begin{matrix}\n",
        "3\\\\ \n",
        "2\\\\\n",
        "4\\\\\n",
        "1\n",
        "\\end{matrix}\n",
        "\\end{pmatrix}.$$"
      ],
      "metadata": {
        "id": "s2xXnI33SQrV"
      }
    },
    {
      "cell_type": "markdown",
      "source": [
        "Ранг матрицы $A$ и расширенной матрицы $\\tilde{A}$ равен 4 => матрица совместна и имеет единственное решение."
      ],
      "metadata": {
        "id": "1SwPHdUymD_E"
      }
    },
    {
      "cell_type": "code",
      "source": [
        "A = np.array([[1,3,-2,4],[0,5,0,1],[0,0,3,0],[0,0,0,2]])\n",
        "A_ex = np.array([[1,3,-2,4,3],[0,5,0,1,2],[0,0,3,0,4],[0,0,0,2,1]])\n",
        "rank_A = np.linalg.matrix_rank(A)\n",
        "rank_A_ex = np.linalg.matrix_rank(A_ex)\n",
        "(rank_A == rank_A_ex,rank_A)"
      ],
      "metadata": {
        "colab": {
          "base_uri": "https://localhost:8080/"
        },
        "id": "1IyhBIOHf9rs",
        "outputId": "bc5044d4-6017-43be-c7ec-3358da20d0f4"
      },
      "execution_count": null,
      "outputs": [
        {
          "output_type": "execute_result",
          "data": {
            "text/plain": [
              "(True, 4)"
            ]
          },
          "metadata": {},
          "execution_count": 3
        }
      ]
    },
    {
      "cell_type": "markdown",
      "source": [
        "### Задание №4"
      ],
      "metadata": {
        "id": "Rp34477XSQ8Y"
      }
    },
    {
      "cell_type": "markdown",
      "source": [
        "Дана система линейных уравнений, заданная расширенной матрицей:\n",
        "\n",
        "$$\\tilde{A}=\\begin{pmatrix}\n",
        "\\left.\\begin{matrix}\n",
        "1 & 2 & 3\\\\ \n",
        "4 & 5 & 6\\\\ \n",
        "7 & 8 & 9\n",
        "\\end{matrix}\\right|\n",
        "\\begin{matrix}\n",
        "a\\\\ \n",
        "b\\\\\n",
        "c\n",
        "\\end{matrix}\n",
        "\\end{pmatrix}.$$\n",
        "\n",
        "Найдите соотношение между параметрами $a$, $b$ и $c$, при которых система считается несовместной."
      ],
      "metadata": {
        "id": "-CvIh4aLSR8M"
      }
    },
    {
      "cell_type": "markdown",
      "source": [
        "Для того, чтобы система уравнений была не совместима необходимо, чтобы ранги матрицы $A$ и матрицы $\\tilde{A}$ были разными."
      ],
      "metadata": {
        "id": "oDN7cbgNssM0"
      }
    },
    {
      "cell_type": "markdown",
      "source": [
        "Найдем ранг матрицы:\n",
        "$$\\begin{pmatrix}\n",
        "1 & 2 & 3\\\\ \n",
        "4 & 5 & 6\\\\ \n",
        "7 & 8 & 9\n",
        "\\end{pmatrix},$$\n",
        "$$\\begin{pmatrix}\n",
        "1 & 2 & 3\\\\ \n",
        "0 & -3 & -6\\\\ \n",
        "0 & -6 & -12\n",
        "\\end{pmatrix},$$\n",
        "$$\\begin{pmatrix}\n",
        "1 & 2 & 3\\\\ \n",
        "0 & -3 & -6\n",
        "\\end{pmatrix}.$$\n",
        "Следовательно ранг матрицы равен 2."
      ],
      "metadata": {
        "id": "oYv6lMuWfM2W"
      }
    },
    {
      "cell_type": "markdown",
      "source": [
        "Попробум найти ранг расширенной матрицы:\n",
        "$$\\begin{pmatrix}\n",
        "\\left.\\begin{matrix}\n",
        "1 & 2 & 3\\\\ \n",
        "4 & 5 & 6\\\\ \n",
        "7 & 8 & 9\n",
        "\\end{matrix}\\right|\n",
        "\\begin{matrix}\n",
        "a\\\\ \n",
        "b\\\\\n",
        "c\n",
        "\\end{matrix}\n",
        "\\end{pmatrix}.$$\n",
        "$$\\begin{pmatrix}\n",
        "\\left.\\begin{matrix}\n",
        "1 & 2 & 3\\\\ \n",
        "0 & -3 & -6\\\\ \n",
        "0 & -6 & -12\n",
        "\\end{matrix}\\right|\n",
        "\\begin{matrix}\n",
        "a\\\\ \n",
        "b-4\\cdot a\\\\\n",
        "c-7\\cdot a\n",
        "\\end{matrix}\n",
        "\\end{pmatrix}.$$\n",
        "$$\\begin{pmatrix}\n",
        "\\left.\\begin{matrix}\n",
        "1 & 2 & 3\\\\ \n",
        "0 & -3 & -6\\\\ \n",
        "0 & 0 & 0\n",
        "\\end{matrix}\\right|\n",
        "\\begin{matrix}\n",
        "a\\\\ \n",
        "b-4\\cdot a\\\\\n",
        "c-2\\cdot b + a\n",
        "\\end{matrix}\n",
        "\\end{pmatrix}.$$"
      ],
      "metadata": {
        "id": "DFrzksC5tEjS"
      }
    },
    {
      "cell_type": "markdown",
      "source": [
        "Следовательно, чтобы ранг матрицы $\\tilde{A}$ был равен 3 необходимо, чтобы выражение $c - 2\\cdot b + a = 0$ не выполнялось."
      ],
      "metadata": {
        "id": "7Ex1aH3ot5hu"
      }
    },
    {
      "cell_type": "markdown",
      "source": [
        "# Системы линейных уравнений. Часть 2"
      ],
      "metadata": {
        "id": "1OGHQmBeSazd"
      }
    },
    {
      "cell_type": "markdown",
      "source": [
        "### Задание №1"
      ],
      "metadata": {
        "id": "AWxfOm-DSlN1"
      }
    },
    {
      "cell_type": "markdown",
      "source": [
        "Решите систему уравнений методом Крамера:\n",
        "\n",
        "   а) $\\begin{cases}\n",
        "x_{1}-2x_{2}=1 \\\\\n",
        "3x_{1}-4x_{2}=7\n",
        "\\end{cases}$\n",
        "    \n",
        "   б) $\\begin{cases}\n",
        "2x_{1}-x_{2}+5x_{3}=10 \\\\\n",
        "x_{1}+x_{2}-3x_{3}=-2 \\\\\n",
        "2x_{1}+4x_{2}+x_{3}=1\n",
        "\\end{cases}$"
      ],
      "metadata": {
        "id": "PxChp5ZaSlmz"
      }
    },
    {
      "cell_type": "markdown",
      "source": [
        "а) $\\begin{cases}\n",
        "x_{1}-2x_{2}=1 \\\\\n",
        "3x_{1}-4x_{2}=7\n",
        "\\end{cases}.$\n",
        "\n",
        "Найдем определитель матрицы $$A = \\begin{pmatrix}\n",
        "1 & -2\\\\\n",
        "3 & -4\n",
        "\\end{pmatrix}.$$\n",
        "$$detA=\\begin{vmatrix}\n",
        "1 & -2\\\\ \n",
        "3 & -4\n",
        "\\end{vmatrix}=-4+6=2\\neq 0,$$следовательно, система совместна."
      ],
      "metadata": {
        "id": "LbVs4f2yyJeL"
      }
    },
    {
      "cell_type": "markdown",
      "source": [
        "Найдём определители $detA_{1}$, $detA_{2}$:\n",
        "\n",
        "$$detA_{1}=\\begin{vmatrix}\n",
        "1 & -2 \\\\ \n",
        "7 & -4\n",
        "\\end{vmatrix}=-4+14=10,$$\n",
        "\n",
        "$$detA_{2}=\\begin{vmatrix}\n",
        "1 & 1 \\\\ \n",
        "3 & 7\n",
        "\\end{vmatrix}=7-3=4,$$"
      ],
      "metadata": {
        "id": "oa5ztRcrzGwu"
      }
    },
    {
      "cell_type": "markdown",
      "source": [
        "\n",
        "\n",
        "Найдём решение по формулам Крамера:\n",
        "\n",
        "$$x_{1} = \\frac{detA_{1}}{detA} = \\frac{10}{2}=5,$$\n",
        "\n",
        "$$x_{2} = \\frac{detA_{2}}{detA} = \\frac{4}{2}=2,$$"
      ],
      "metadata": {
        "id": "zfpvSnMRzyTW"
      }
    },
    {
      "cell_type": "markdown",
      "source": [
        "б) $\\begin{cases}\n",
        "2x_{1}-x_{2}+5x_{3}=10 \\\\\n",
        "x_{1}+x_{2}-3x_{3}=-2 \\\\\n",
        "2x_{1}+4x_{2}+x_{3}=1\n",
        "\\end{cases}.$\n",
        "\n",
        "Найдем определитель матрицы $$A = \\begin{pmatrix}\n",
        "2 & -1 & 5\\\\\n",
        "1 & 1 & -3\\\\\n",
        "2 & 4 & 1\n",
        "\\end{pmatrix}.$$\n",
        "$$detA=\\begin{vmatrix}\n",
        "2 & -1 & 5\\\\\n",
        "1 & 1 & -3\\\\\n",
        "2 & 4 & 1\n",
        "\\end{vmatrix}=2⋅\\begin{vmatrix}\n",
        "1 & -3\\\\\n",
        "4 & 1\n",
        "\\end{vmatrix}+\\begin{vmatrix}\n",
        "1 & -3\\\\\n",
        "2 & 1\n",
        "\\end{vmatrix}+5⋅\\begin{vmatrix}\n",
        "1 & 1\\\\\n",
        "2 & 4\n",
        "\\end{vmatrix}=2⋅(1+12)+(1+6)+5⋅(4-2)=26+7+10=43\\neq 0,$$следовательно, система совместна."
      ],
      "metadata": {
        "id": "_BiPGp54z41E"
      }
    },
    {
      "cell_type": "markdown",
      "source": [
        "Найдём определители $detA_{1}$, $detA_{2}$, $detA_{3}$:\n",
        "\n",
        "$$detA_{1}=\\begin{vmatrix}\n",
        "10 & -1 & 5\\\\ \n",
        "-2 & 1 & -3\\\\ \n",
        "1 & 4 & 1\n",
        "\\end{vmatrix}=\n",
        "10\\begin{vmatrix}\n",
        "1 & -3\\\\ \n",
        "4 & 1 \n",
        "\\end{vmatrix}+\n",
        "\\begin{vmatrix}\n",
        "-2 & -3\\\\ \n",
        "1 & 1 \n",
        "\\end{vmatrix}+\n",
        "5\\begin{vmatrix}\n",
        "-2 & 1 \\\\ \n",
        "1 & 4\n",
        "\\end{vmatrix}=10(1+12)+(-2+3)+5(-8-1)=130+1-45=86,$$\n",
        "\n",
        "$$detA_{2}=\\begin{vmatrix}\n",
        "2 & 10 & 5\\\\\n",
        "1 & -2 & -3\\\\\n",
        "2 & 1 & 1\n",
        "\\end{vmatrix}=\n",
        "2\\begin{vmatrix}\n",
        "-2 & -3\\\\ \n",
        "1 & 1 \n",
        "\\end{vmatrix}-\n",
        "10\\begin{vmatrix}\n",
        "1 & -3\\\\ \n",
        "2 & 1 \n",
        "\\end{vmatrix}+\n",
        "5\\begin{vmatrix}\n",
        "1 & -2 \\\\ \n",
        "2 & 1\n",
        "\\end{vmatrix}=2(-2+3)-10(1+6)+5(1+4)=2-70+25=-43,$$\n",
        "\n",
        "$$detA_{3}=\\begin{vmatrix}\n",
        "2 & -1 & 10\\\\\n",
        "1 & 1 & -2\\\\\n",
        "2 & 4 & 1\n",
        "\\end{vmatrix}=\n",
        "2\\begin{vmatrix}\n",
        "1 & -2\\\\ \n",
        "4 & 1 \n",
        "\\end{vmatrix}+\n",
        "\\begin{vmatrix}\n",
        "1 & -2\\\\ \n",
        "2 & 1 \n",
        "\\end{vmatrix}+\n",
        "10\\begin{vmatrix}\n",
        "1 & 1 \\\\ \n",
        "2 & 4\n",
        "\\end{vmatrix}=2(1+8)+(1+4)+10(4-2)=18+5+20=43.$$"
      ],
      "metadata": {
        "id": "-bs2Ijq_1yhk"
      }
    },
    {
      "cell_type": "markdown",
      "source": [
        "\n",
        "\n",
        "Найдём решение по формулам Крамера:\n",
        "\n",
        "$$x_{1} = \\frac{detA_{1}}{detA} = \\frac{86}{43}=2,$$\n",
        "\n",
        "$$x_{2} = \\frac{detA_{2}}{detA} = \\frac{-43}{43}=-1,$$\n",
        "\n",
        "$$x_{3} = \\frac{detA_{3}}{detA} = \\frac{43}{43}=1.$$"
      ],
      "metadata": {
        "id": "UntJe6d0174o"
      }
    },
    {
      "cell_type": "markdown",
      "source": [
        "### Задание №2*"
      ],
      "metadata": {
        "id": "QVSKg4bpSl1k"
      }
    },
    {
      "cell_type": "markdown",
      "source": [
        "Найдите $L$-матрицу $LU$-разложения для матрицы коэффициентов:\n",
        "\n",
        "   а)$$\\begin{pmatrix}\n",
        "1 & 2 & 4 \\\\ \n",
        "2 & 9 & 12 \\\\ \n",
        "3 & 26 & 30\n",
        "\\end{pmatrix}$$\n",
        "    \n",
        "   б)$$\\begin{pmatrix}\n",
        "1 & 1 & 2 & 4\\\\ \n",
        "2 & 5 & 8 & 9\\\\ \n",
        "3 & 18 & 29 & 18\\\\\n",
        "4 & 22 & 53 & 33\n",
        "\\end{pmatrix}$$"
      ],
      "metadata": {
        "id": "0mLjd_eRSo4V"
      }
    },
    {
      "cell_type": "markdown",
      "source": [
        "### Задание №3*"
      ],
      "metadata": {
        "id": "NeGLGnVSSqAw"
      }
    },
    {
      "cell_type": "markdown",
      "source": [
        "\n",
        "__3*.__ Решите систему линейных уравнений методом $LU$-разложения:\n",
        "\n",
        "$$\\begin{cases}\n",
        "2x_{1}+x_{2}+3x_{3}=1 \\\\\n",
        "11x_{1}+7x_{2}+5x_{3}=-6 \\\\\n",
        "9x_{1}+8x_{2}+4x_{3}=-5\n",
        "\\end{cases}$$"
      ],
      "metadata": {
        "id": "BfafeZLcSrG5"
      }
    },
    {
      "cell_type": "markdown",
      "source": [
        "### Задание №4*"
      ],
      "metadata": {
        "id": "IDyPwv6SSrXb"
      }
    },
    {
      "cell_type": "markdown",
      "source": [
        "Решите систему линейных уравнений методом Холецкого:\n",
        "\n",
        "$$\\begin{cases}\n",
        "81x_{1}-45x_{2}+45x_{3}=531 \\\\\n",
        "-45x_{1}+50x_{2}-15x_{3}=-460 \\\\\n",
        "45x_{1}-15x_{2}+38x_{3}=193\n",
        "\\end{cases}$$"
      ],
      "metadata": {
        "id": "JvR77QuOSsFp"
      }
    },
    {
      "cell_type": "markdown",
      "source": [
        "### Задание №5*"
      ],
      "metadata": {
        "id": "6HwB0KuiSslq"
      }
    },
    {
      "cell_type": "markdown",
      "source": [
        "Напишите на Python программу с реализацией одного из изученных алгоритмов решения СЛАУ."
      ],
      "metadata": {
        "id": "ZnAVq6BSStQA"
      }
    }
  ]
}