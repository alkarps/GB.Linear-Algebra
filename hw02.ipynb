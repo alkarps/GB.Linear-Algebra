{
  "nbformat": 4,
  "nbformat_minor": 0,
  "metadata": {
    "colab": {
      "provenance": [],
      "authorship_tag": "ABX9TyP0IWfODLaesZXj/lZSVHLG",
      "include_colab_link": true
    },
    "kernelspec": {
      "name": "python3",
      "display_name": "Python 3"
    },
    "language_info": {
      "name": "python"
    }
  },
  "cells": [
    {
      "cell_type": "markdown",
      "metadata": {
        "id": "view-in-github",
        "colab_type": "text"
      },
      "source": [
        "<a href=\"https://colab.research.google.com/github/alkarps/GB.Linear-Algebra/blob/hw02/hw02.ipynb\" target=\"_parent\"><img src=\"https://colab.research.google.com/assets/colab-badge.svg\" alt=\"Open In Colab\"/></a>"
      ]
    },
    {
      "cell_type": "code",
      "source": [
        "import numpy as np"
      ],
      "metadata": {
        "id": "1nNU5b78XX-8"
      },
      "execution_count": null,
      "outputs": []
    },
    {
      "cell_type": "markdown",
      "source": [
        "## Матрицы и матричные операции. Часть 1"
      ],
      "metadata": {
        "id": "zZr-91m2OVln"
      }
    },
    {
      "cell_type": "markdown",
      "source": [
        "### Задание №1"
      ],
      "metadata": {
        "id": "Ly2icGlROXLk"
      }
    },
    {
      "cell_type": "markdown",
      "source": [
        "Установите, какие произведения матриц $AB$ и $BA$ определены, и найдите размерности полученных матриц:\n",
        "\n",
        "   а) $A$ — матрица $4\\times 2$, $B$ — матрица $4\\times 2$;\n",
        "    \n",
        "   б) $A$ — матрица $2\\times 5$, $B$ — матрица $5\\times 3$;\n",
        "    \n",
        "   в) $A$ — матрица $8\\times 3$, $B$ — матрица $3\\times 8$;\n",
        "    \n",
        "   г) $A$ — квадратная матрица $4\\times 4$, $B$ — квадратная матрица $4\\times 4$."
      ],
      "metadata": {
        "id": "OEh3yCC9Ol8w"
      }
    },
    {
      "cell_type": "markdown",
      "source": [
        "а) Произведение $AB$ и $BA$, где матрица $A$ размерности $4\\times 2$ и матрица $B$ размерности $4\\times 2$ - не определены;\n",
        "    \n",
        "   б) Матрица $C$, являющаяся произведением $AB$, где матрица $A$ размерности $2\\times 5$ и матрица $B$ $5\\times 3$, определена и имеет размерность $2\\times 3$. Матрица $BA$ неопределна;\n",
        "    \n",
        "   в) Для матриц $A$ размерности $8\\times 3$ и $B$ размерности $3\\times 8$ определены матрицы произведения $AB$ размерности $8\\times8$ и $BA$ размерности $3\\times3$;\n",
        "    \n",
        "   г) Так как у обоех квадратных матриц $A$ и $B$ одинаковая размерность $4\\times 4$ произведения $AB$ и $BA$ таких матриц определено и будет такой же размерности,что и исходные матрицы."
      ],
      "metadata": {
        "id": "obEV2uUxTi0l"
      }
    },
    {
      "cell_type": "markdown",
      "source": [
        "### Задание №2"
      ],
      "metadata": {
        "id": "SXKz5GCVOmlC"
      }
    },
    {
      "cell_type": "markdown",
      "source": [
        "Найдите сумму и произведение матриц $A=\\begin{pmatrix}\n",
        "1 & -2\\\\ \n",
        "3 & 0\n",
        "\\end{pmatrix}$ и $B=\\begin{pmatrix}\n",
        "4 & -1\\\\ \n",
        "0 & 5\n",
        "\\end{pmatrix}.$"
      ],
      "metadata": {
        "id": "5R0xQSjQOnLh"
      }
    },
    {
      "cell_type": "markdown",
      "source": [
        "$A+B = \\begin{pmatrix}\n",
        "1 & -2\\\\ \n",
        "3 & 0\n",
        "\\end{pmatrix} + \\begin{pmatrix}\n",
        "4 & -1\\\\ \n",
        "0 & 5\n",
        "\\end{pmatrix} = \\begin{pmatrix}\n",
        "1+4 & -2+(-1)\\\\ \n",
        "3+0 & 0+5\n",
        "\\end{pmatrix} = \\begin{pmatrix}\n",
        "5 & -3\\\\ \n",
        "3 & 5\n",
        "\\end{pmatrix}$"
      ],
      "metadata": {
        "id": "4GbFodU8W30O"
      }
    },
    {
      "cell_type": "code",
      "source": [
        "a = np.array([[1,-2],[3,0]])\n",
        "b = np.array([[4,-1],[0,5]])\n",
        "(a,b,a+b)"
      ],
      "metadata": {
        "colab": {
          "base_uri": "https://localhost:8080/"
        },
        "id": "P7TFbbecXfnb",
        "outputId": "0eddc3cb-0cc0-488d-e928-631f17d8891b"
      },
      "execution_count": null,
      "outputs": [
        {
          "output_type": "execute_result",
          "data": {
            "text/plain": [
              "(array([[ 1, -2],\n",
              "        [ 3,  0]]), array([[ 4, -1],\n",
              "        [ 0,  5]]), array([[ 5, -3],\n",
              "        [ 3,  5]]))"
            ]
          },
          "metadata": {},
          "execution_count": 2
        }
      ]
    },
    {
      "cell_type": "markdown",
      "source": [
        "$$\\begin{pmatrix}\n",
        "1 & -2\\\\ \n",
        "3 & 0\n",
        "\\end{pmatrix} \\begin{pmatrix}\n",
        "4 & -1\\\\ \n",
        "0 & 5\n",
        "\\end{pmatrix}=\\begin{pmatrix}\n",
        "(1*4 + -2*0) & (1*(-1) + -2*5)\\\\ \n",
        "(3*4 + 0*0) & (3*(-1) + 0*5)\n",
        "\\end{pmatrix}=\\begin{pmatrix}\n",
        "4 & -11\\\\ \n",
        "12 & -3\n",
        "\\end{pmatrix}.$$"
      ],
      "metadata": {
        "id": "RMFOzjUTXywH"
      }
    },
    {
      "cell_type": "code",
      "source": [
        "np.dot(a,b)"
      ],
      "metadata": {
        "colab": {
          "base_uri": "https://localhost:8080/"
        },
        "id": "MdMN0zZ1Xxng",
        "outputId": "b9a05aae-db4a-4b66-fbb1-b56107ddd4a1"
      },
      "execution_count": null,
      "outputs": [
        {
          "output_type": "execute_result",
          "data": {
            "text/plain": [
              "array([[  4, -11],\n",
              "       [ 12,  -3]])"
            ]
          },
          "metadata": {},
          "execution_count": 3
        }
      ]
    },
    {
      "cell_type": "markdown",
      "source": [
        "### Задание №3"
      ],
      "metadata": {
        "id": "qvewTD8COner"
      }
    },
    {
      "cell_type": "markdown",
      "source": [
        "Из закономерностей сложения и умножения матриц на число можно сделать вывод, что матрицы одного размера образуют линейное пространство. Вычислите линейную комбинацию $3A-2B+4C$ для матриц $A=\\begin{pmatrix}\n",
        "1 & 7\\\\ \n",
        "3 & -6\n",
        "\\end{pmatrix}$, $B=\\begin{pmatrix}\n",
        "0 & 5\\\\ \n",
        "2 & -1\n",
        "\\end{pmatrix}$, $C=\\begin{pmatrix}\n",
        "2 & -4\\\\ \n",
        "1 & 1\n",
        "\\end{pmatrix}.$"
      ],
      "metadata": {
        "id": "08GjjTB4OosM"
      }
    },
    {
      "cell_type": "markdown",
      "source": [
        "$3A-2B+4C = 3*\\begin{pmatrix}\n",
        "1 & 7\\\\ \n",
        "3 & -6\n",
        "\\end{pmatrix} - 2*\\begin{pmatrix}\n",
        "0 & 5\\\\ \n",
        "2 & -1\n",
        "\\end{pmatrix} + 4*\\begin{pmatrix}\n",
        "2 & -4\\\\ \n",
        "1 & 1\n",
        "\\end{pmatrix}=\\begin{pmatrix}\n",
        "3 - 0 + 8 & 21 - 10 -16\\\\ \n",
        "9 -4 +4 & -18 +2 +4\n",
        "\\end{pmatrix}=\\begin{pmatrix}\n",
        "11 & -5\\\\ \n",
        "9 & -12\n",
        "\\end{pmatrix}.$"
      ],
      "metadata": {
        "id": "UbhtzAvDY5Ws"
      }
    },
    {
      "cell_type": "code",
      "source": [
        "a=np.array([[1,7],[3,-6]])\n",
        "b=np.array([[0,5],[2,-1]])\n",
        "c=np.array([[2,-4],[1,1]])\n",
        "3*a-2*b+4*c"
      ],
      "metadata": {
        "colab": {
          "base_uri": "https://localhost:8080/"
        },
        "id": "A72blQl8ZcyL",
        "outputId": "f8bf6f9a-37d7-4b91-bd70-f79693f639be"
      },
      "execution_count": null,
      "outputs": [
        {
          "output_type": "execute_result",
          "data": {
            "text/plain": [
              "array([[ 11,  -5],\n",
              "       [  9, -12]])"
            ]
          },
          "metadata": {},
          "execution_count": 4
        }
      ]
    },
    {
      "cell_type": "markdown",
      "source": [
        "### Задание №4"
      ],
      "metadata": {
        "id": "mZVNv0CIOpEH"
      }
    },
    {
      "cell_type": "markdown",
      "source": [
        "Дана матрица $A=\\begin{pmatrix}\n",
        "4 & 1\\\\ \n",
        "5 & -2\\\\ \n",
        "2 & 3\n",
        "\\end{pmatrix}$.\n",
        "Вычислите $AA^{T}$ и $A^{T}A$."
      ],
      "metadata": {
        "id": "IDVz3QN9OqCV"
      }
    },
    {
      "cell_type": "markdown",
      "source": [
        "$A^{T}=\\begin{pmatrix}\n",
        "4 & 5 & 2\\\\ \n",
        "1 & -2 & 3\n",
        "\\end{pmatrix}$"
      ],
      "metadata": {
        "id": "dgFGJkgXaBVB"
      }
    },
    {
      "cell_type": "markdown",
      "source": [
        "$AA^{T} = \\begin{pmatrix}\n",
        "4 & 1\\\\ \n",
        "5 & -2\\\\ \n",
        "2 & 3\n",
        "\\end{pmatrix} \\cdot \\begin{pmatrix}\n",
        "4 & 5 & 2\\\\ \n",
        "1 & -2 & 3\n",
        "\\end{pmatrix}  = \\begin{pmatrix}\n",
        "4\\cdot4+1\\cdot1 & 4\\cdot5+1\\cdot(-2) & 4\\cdot2+1\\cdot3\\\\ \n",
        "5\\cdot4+(-2)\\cdot1 & 5\\cdot5+(-2)\\cdot(-2) & 5\\cdot2+(-2)\\cdot3\\\\ \n",
        "2\\cdot4+3\\cdot1 & 2\\cdot5+3\\cdot(-2) & 2\\cdot2+3\\cdot3\n",
        "\\end{pmatrix}=\\begin{pmatrix}\n",
        "17 & 18 & 11\\\\ \n",
        "18 & 29 & 4\\\\ \n",
        "11 & 4 & 13\n",
        "\\end{pmatrix}$"
      ],
      "metadata": {
        "id": "HPbNP38gaVTD"
      }
    },
    {
      "cell_type": "markdown",
      "source": [
        "$A^{T}A = \\begin{pmatrix}\n",
        "4 & 5 & 2\\\\ \n",
        "1 & -2 & 3\n",
        "\\end{pmatrix} \\cdot \\begin{pmatrix}\n",
        "4 & 1\\\\ \n",
        "5 & -2\\\\ \n",
        "2 & 3\n",
        "\\end{pmatrix} = \\begin{pmatrix}\n",
        "4\\cdot4+5\\cdot5+2\\cdot2 & 4\\cdot1+5\\cdot(-2)+2\\cdot3\\\\ \n",
        "1\\cdot4+(-2)\\cdot5+3\\cdot2 & 1\\cdot1+(-2)\\cdot(-2)+3\\cdot3\n",
        "\\end{pmatrix}=\\begin{pmatrix}\n",
        "45 & 0\\\\ \n",
        "0 & 14\n",
        "\\end{pmatrix}$"
      ],
      "metadata": {
        "id": "dTPWAsfdcLeq"
      }
    },
    {
      "cell_type": "code",
      "source": [
        "A = np.array([[4,1],[5,-2],[2,3]])\n",
        "A_t = A.T\n",
        "(np.dot(A,A_t), np.dot(A_t,A))"
      ],
      "metadata": {
        "colab": {
          "base_uri": "https://localhost:8080/"
        },
        "id": "p6xZnazudQ2B",
        "outputId": "932b4b40-d898-43bc-9165-07b3ec77ca64"
      },
      "execution_count": null,
      "outputs": [
        {
          "output_type": "execute_result",
          "data": {
            "text/plain": [
              "(array([[17, 18, 11],\n",
              "        [18, 29,  4],\n",
              "        [11,  4, 13]]), array([[45,  0],\n",
              "        [ 0, 14]]))"
            ]
          },
          "metadata": {},
          "execution_count": 5
        }
      ]
    },
    {
      "cell_type": "markdown",
      "source": [
        "### Задание №5*"
      ],
      "metadata": {
        "id": "2DussueXOqx-"
      }
    },
    {
      "cell_type": "markdown",
      "source": [
        "Напишите на Python функцию для перемножения двух произвольных матриц, не используя NumPy."
      ],
      "metadata": {
        "id": "N-cybYC3O8l6"
      }
    },
    {
      "cell_type": "code",
      "source": [
        "def mult(A,B):\n",
        "  A_shape = A.shape\n",
        "  B_shape = B.shape\n",
        "  if A_shape[1]!=B_shape[0]:\n",
        "    raise ValueError\n",
        "  result = [[1 for i in range(A_shape[0])] for j in range(B_shape[1])]\n",
        "  for p in range(A_shape[1]):\n",
        "    for i in range(A_shape[0]):\n",
        "      for j in range(B_shape[1]):\n",
        "        result[i][j]=result[i][j]+A[i][p]+B[p][j]\n",
        "        print(result[i][j])\n",
        "  return result\n",
        "\n",
        "mult(A,A_t)"
      ],
      "metadata": {
        "colab": {
          "base_uri": "https://localhost:8080/"
        },
        "id": "NeIMcrwLO9LM",
        "outputId": "289765a7-e49f-4bdb-c9ca-0aa8e0e63703"
      },
      "execution_count": null,
      "outputs": [
        {
          "output_type": "stream",
          "name": "stdout",
          "text": [
            "9\n",
            "10\n",
            "7\n",
            "10\n",
            "11\n",
            "8\n",
            "7\n",
            "8\n",
            "5\n",
            "11\n",
            "9\n",
            "11\n",
            "9\n",
            "7\n",
            "9\n",
            "11\n",
            "9\n",
            "11\n"
          ]
        },
        {
          "output_type": "execute_result",
          "data": {
            "text/plain": [
              "[[11, 9, 11], [9, 7, 9], [11, 9, 11]]"
            ]
          },
          "metadata": {},
          "execution_count": 12
        }
      ]
    },
    {
      "cell_type": "markdown",
      "source": [
        "## Матрицы и матричные операции. Часть 2"
      ],
      "metadata": {
        "id": "UrqdlWaVPET3"
      }
    },
    {
      "cell_type": "markdown",
      "source": [
        "### Задание №1"
      ],
      "metadata": {
        "id": "tNWPlVodPI6_"
      }
    },
    {
      "cell_type": "markdown",
      "source": [
        "Вычислите определитель:\n",
        "\n",
        "   a)\n",
        "\n",
        "$$\\begin{vmatrix}\n",
        "sinx & -cosx\\\\ \n",
        "cosx & sinx\n",
        "\\end{vmatrix};$$\n",
        "\n",
        "   б)\n",
        "    \n",
        "$$\\begin{vmatrix}\n",
        "4 & 2 & 3\\\\ \n",
        "0 & 5 & 1\\\\ \n",
        "0 & 0 & 9\n",
        "\\end{vmatrix};$$\n",
        "    \n",
        "   в)\n",
        "\n",
        "$$\\begin{vmatrix}\n",
        "1 & 2 & 3\\\\ \n",
        "4 & 5 & 6\\\\ \n",
        "7 & 8 & 9\n",
        "\\end{vmatrix}.$$\n"
      ],
      "metadata": {
        "id": "1TM5DDrGPXbL"
      }
    },
    {
      "cell_type": "markdown",
      "source": [
        "$$\\begin{vmatrix}\n",
        "sinx & -cosx\\\\ \n",
        "cosx & sinx\n",
        "\\end{vmatrix} = sinx ⋅ sinx + cosx ⋅ cosx = 1$$"
      ],
      "metadata": {
        "id": "iN7PXPC3g3Ve"
      }
    },
    {
      "cell_type": "markdown",
      "source": [
        "$$\\begin{vmatrix}\n",
        "4 & 2 & 3\\\\ \n",
        "0 & 5 & 1\\\\ \n",
        "0 & 0 & 9\n",
        "\\end{vmatrix} = 4⋅\\begin{vmatrix}\n",
        "5 & 1\\\\ \n",
        "0 & 9\n",
        "\\end{vmatrix} - 2⋅\\begin{vmatrix}\n",
        "0 & 1\\\\ \n",
        "0 & 9\n",
        "\\end{vmatrix} + 3⋅\\begin{vmatrix}\n",
        "0 & 5\\\\ \n",
        "0 & 0\n",
        "\\end{vmatrix} = 4 * 5 * 9 = 180$$"
      ],
      "metadata": {
        "id": "Ydv-MqDwhRNa"
      }
    },
    {
      "cell_type": "code",
      "source": [
        "np.linalg.det(np.array([[4,2,3],[0,5,1],[0,0,9]]))"
      ],
      "metadata": {
        "colab": {
          "base_uri": "https://localhost:8080/"
        },
        "id": "TcItz4y8iz1b",
        "outputId": "0d7214f7-a470-4799-cf75-63a187b85616"
      },
      "execution_count": null,
      "outputs": [
        {
          "output_type": "execute_result",
          "data": {
            "text/plain": [
              "180.0"
            ]
          },
          "metadata": {},
          "execution_count": 13
        }
      ]
    },
    {
      "cell_type": "markdown",
      "source": [
        "$$\\begin{vmatrix}\n",
        "1 & 2 & 3\\\\ \n",
        "4 & 5 & 6\\\\ \n",
        "7 & 8 & 9\n",
        "\\end{vmatrix} = 1⋅\\begin{vmatrix}\n",
        "5 & 6\\\\ \n",
        "8 & 9\n",
        "\\end{vmatrix} - 2⋅\\begin{vmatrix}\n",
        "4 & 6\\\\ \n",
        "7 & 9\n",
        "\\end{vmatrix} + 3⋅\\begin{vmatrix}\n",
        "4 & 5\\\\ \n",
        "7 & 8\n",
        "\\end{vmatrix} = 5⋅9-6⋅8 - 2⋅(4⋅9-7⋅6)+3⋅(4⋅8-7⋅5) = 45-48-72+84+96-105 = -3+12-9 = 0$$"
      ],
      "metadata": {
        "id": "LrT449VCh_BM"
      }
    },
    {
      "cell_type": "code",
      "source": [
        "np.linalg.det(np.array([[1,2,3],[4,5,6],[7,8,9]]))"
      ],
      "metadata": {
        "colab": {
          "base_uri": "https://localhost:8080/"
        },
        "id": "OIKhzcTZjBav",
        "outputId": "a3cc7ed8-f275-490f-f1f2-0ab09f37fe37"
      },
      "execution_count": null,
      "outputs": [
        {
          "output_type": "execute_result",
          "data": {
            "text/plain": [
              "0.0"
            ]
          },
          "metadata": {},
          "execution_count": 14
        }
      ]
    },
    {
      "cell_type": "markdown",
      "source": [
        "### Задание №2"
      ],
      "metadata": {
        "id": "gH-EKW4xPXwd"
      }
    },
    {
      "cell_type": "markdown",
      "source": [
        "Определитель матрицы $A$ равен $4$. Найдите:\n",
        "\n",
        "   а) $det(A^{2})$;\n",
        "    \n",
        "   б) $det(A^{T})$;\n",
        "    \n",
        "   в) $det(2A)$."
      ],
      "metadata": {
        "id": "bvNNrnG9PYN-"
      }
    },
    {
      "cell_type": "markdown",
      "source": [
        "а) $det(A^{2}) = det(A)⋅ = det(A) = 16$;\n",
        "    \n",
        "   б) $det(A^{T}) = det(A) = 4$;\n",
        "    \n",
        "   в) $det(2A) = det(A)⋅det(2) = 8$."
      ],
      "metadata": {
        "id": "1Tnspe_lkD5v"
      }
    },
    {
      "cell_type": "markdown",
      "source": [
        "### Задание №3"
      ],
      "metadata": {
        "id": "XtP8gJZUPYdy"
      }
    },
    {
      "cell_type": "markdown",
      "source": [
        "Докажите, что матрица:\n",
        "\n",
        "$$\\begin{pmatrix}\n",
        "-2 & 7 & -3\\\\ \n",
        "4 & -14 & 6\\\\ \n",
        "-3 & 7 & 13\n",
        "\\end{pmatrix}$$\n",
        "   \n",
        "вырожденная."
      ],
      "metadata": {
        "id": "aYz6N-YUPZjl"
      }
    },
    {
      "cell_type": "markdown",
      "source": [
        "Матрица квадратная, найдем ее определитель:\n",
        "$$\\begin{vmatrix}\n",
        "-2 & 7 & -3\\\\ \n",
        "4 & -14 & 6\\\\ \n",
        "-3 & 7 & 13\n",
        "\\end{vmatrix} = -2⋅\\begin{vmatrix}\n",
        "-14 & 6\\\\ \n",
        "7 & 13\n",
        "\\end{vmatrix} - 7⋅\\begin{vmatrix}\n",
        "4 & 6\\\\ \n",
        "-3 & 13\n",
        "\\end{vmatrix} - 3⋅\\begin{vmatrix}\n",
        "4 & -14\\\\ \n",
        "-3 & 7\n",
        "\\end{vmatrix} = -2(-14⋅13-6⋅7) - 7⋅(4⋅13+6⋅3)-3⋅(4⋅7-14⋅3) = 448-490+42 = 490-490 = 0.$$\n",
        "Тк определитель равен нулю и матрица квадратная => матрица вырожденная."
      ],
      "metadata": {
        "id": "niKuc0uhlZeW"
      }
    },
    {
      "cell_type": "markdown",
      "source": [
        "### Задание №4"
      ],
      "metadata": {
        "id": "QcBbxWdTPZzZ"
      }
    },
    {
      "cell_type": "markdown",
      "source": [
        "Найдите ранг матрицы:\n",
        "\n",
        "   а) $\\begin{pmatrix}\n",
        "1 & 2 & 3\\\\ \n",
        "1 & 1 & 1\\\\ \n",
        "2 & 3 & 4\n",
        "\\end{pmatrix};$\n",
        "\n",
        "   б) $\\begin{pmatrix}\n",
        "0 & 0 & 2 & 1\\\\ \n",
        "0 & 0 & 2 & 2\\\\ \n",
        "0 & 0 & 4 & 3\\\\ \n",
        "2 & 3 & 5 & 6\n",
        "\\end{pmatrix}.$"
      ],
      "metadata": {
        "id": "v2MjIt1iPan_"
      }
    },
    {
      "cell_type": "code",
      "source": [
        "np.linalg.matrix_rank(np.array([[1,2,3],[1,1,1],[2,3,4]]))"
      ],
      "metadata": {
        "colab": {
          "base_uri": "https://localhost:8080/"
        },
        "id": "9cjrOJXTmyX-",
        "outputId": "f93437fa-6d52-4c7f-b55b-d9ccfd59e851"
      },
      "execution_count": null,
      "outputs": [
        {
          "output_type": "execute_result",
          "data": {
            "text/plain": [
              "2"
            ]
          },
          "metadata": {},
          "execution_count": 15
        }
      ]
    },
    {
      "cell_type": "code",
      "source": [
        "np.linalg.matrix_rank(np.array([[0,0,2,1],[0,0,2,2],[0,0,4,3],[2,3,5,6]]))"
      ],
      "metadata": {
        "colab": {
          "base_uri": "https://localhost:8080/"
        },
        "id": "iLMb358Bm5yT",
        "outputId": "76d9a3b2-0eff-421c-f815-112501278f9b"
      },
      "execution_count": null,
      "outputs": [
        {
          "output_type": "execute_result",
          "data": {
            "text/plain": [
              "3"
            ]
          },
          "metadata": {},
          "execution_count": 16
        }
      ]
    }
  ]
}