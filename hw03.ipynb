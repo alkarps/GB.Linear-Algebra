{
  "nbformat": 4,
  "nbformat_minor": 0,
  "metadata": {
    "colab": {
      "provenance": [],
      "authorship_tag": "ABX9TyPlN8h2BYC7tWgCAliGA0+u",
      "include_colab_link": true
    },
    "kernelspec": {
      "name": "python3",
      "display_name": "Python 3"
    },
    "language_info": {
      "name": "python"
    }
  },
  "cells": [
    {
      "cell_type": "markdown",
      "metadata": {
        "id": "view-in-github",
        "colab_type": "text"
      },
      "source": [
        "<a href=\"https://colab.research.google.com/github/alkarps/GB.Linear-Algebra/blob/hw03/hw03.ipynb\" target=\"_parent\"><img src=\"https://colab.research.google.com/assets/colab-badge.svg\" alt=\"Open In Colab\"/></a>"
      ]
    },
    {
      "cell_type": "markdown",
      "source": [
        "# Линейные преобразования"
      ],
      "metadata": {
        "id": "ocC8wv90GWAT"
      }
    },
    {
      "cell_type": "markdown",
      "source": [
        "### Заданиче №1"
      ],
      "metadata": {
        "id": "apPwDxCpGfRZ"
      }
    },
    {
      "cell_type": "markdown",
      "source": [
        "Найдите собственные векторы и собственные значения для линейного оператора, заданного матрицей:\n",
        "\n",
        "$$A=\\begin{pmatrix}\n",
        "-1 & -6\\\\ \n",
        "2 & 6\n",
        "\\end{pmatrix}.$$"
      ],
      "metadata": {
        "id": "Fzej1yT4Ghhg"
      }
    },
    {
      "cell_type": "markdown",
      "source": [
        "Возьмем базис в двумерном пространстве из векторов $e_{1}=(1,0)$ и $e_{2}=(0,1)$. Применим к нему линейное преобразование, заданное матрицей:\n",
        "\n",
        "$$A=\\begin{pmatrix}\n",
        "-1 & -6\\\\ \n",
        "2 & 6\n",
        "\\end{pmatrix}.$$\n",
        "\n",
        "И найдём его собственные векторы и собственные значения."
      ],
      "metadata": {
        "id": "wSDNVvPDC-KQ"
      }
    },
    {
      "cell_type": "markdown",
      "source": [
        "\n",
        "Преобразуем базисные вектора следующим образом:\n",
        "$$Ae_{1}=-1\\cdot e_{1}-6\\cdot e_{2},$$\n",
        "\n",
        "$$Ae_{2}=2\\cdot e_{1}+6\\cdot e_{2}.$$"
      ],
      "metadata": {
        "id": "Nc3U80JjDiCl"
      }
    },
    {
      "cell_type": "markdown",
      "source": [
        "Теперь найдём собственные значения линейного оператора, составив и решив характеристическое уравнение:\n",
        "\n",
        "$$\\begin{vmatrix}\n",
        "-1-\\lambda & -6\\\\ \n",
        "2 & 6-\\lambda\n",
        "\\end{vmatrix} = 0,$$\n",
        "\n",
        "$$\\lambda^{2}-(-1+6)\\lambda+(-6+12)=0,$$\n",
        "$$\\lambda^{2}-5\\lambda+6=0,$$\n",
        "$$\\lambda_1=3.$$\n",
        "$$\\lambda_2=2.$$"
      ],
      "metadata": {
        "id": "7SCv6oKQD6GY"
      }
    },
    {
      "cell_type": "markdown",
      "source": [
        "Следовательно данная матрицы \n",
        "$$A=\\begin{pmatrix}\n",
        "-1 & -6\\\\ \n",
        "2 & 6\n",
        "\\end{pmatrix}.$$\n",
        "Не обладает  собственными векторами и собственным значением"
      ],
      "metadata": {
        "id": "Mkbi34qgHtDA"
      }
    },
    {
      "cell_type": "markdown",
      "source": [
        "### Заданиче №2"
      ],
      "metadata": {
        "id": "VXqmoDCRGhwd"
      }
    },
    {
      "cell_type": "markdown",
      "source": [
        "Дан оператор поворота на 180 градусов, задаваемый матрицей:\n",
        "\n",
        "$$A=\\begin{pmatrix}\n",
        "-1 & 0\\\\ \n",
        "0 & -1\n",
        "\\end{pmatrix}.$$\n",
        "\n",
        "Покажите, что __любой__ вектор считается для него собственным."
      ],
      "metadata": {
        "id": "zaIikoO-GkFW"
      }
    },
    {
      "cell_type": "markdown",
      "source": [
        "Найдем $λ$ для данной матрицы:\n",
        "$(-1-λ)^{2}=0,$\n",
        "Следовательно $λ=-1$. \n",
        "\n",
        "Отсюда получаем равенство:\n",
        "\n",
        "$$\\begin{pmatrix}\n",
        "-1 & 0\\\\ \n",
        "0 & -1\n",
        "\\end{pmatrix}⋅\\begin{pmatrix}\n",
        "x_1\\\\\n",
        "x_2\n",
        "\\end{pmatrix} = -1⋅\\begin{pmatrix}\n",
        "x_1\\\\\n",
        "x_2\n",
        "\\end{pmatrix}$$\n",
        "\n",
        "или\n",
        "\n",
        "$$\\begin{cases}\n",
        "x_{1} = x_{1}, \\\\\n",
        "x_{2} = x_{2}.\n",
        "\\end{cases}$$\n",
        "Следовательно, любой вектор считается собственный для матрицы\n",
        "$$A=\\begin{pmatrix}\n",
        "-1 & 0\\\\ \n",
        "0 & -1\n",
        "\\end{pmatrix}.$$"
      ],
      "metadata": {
        "id": "zAULy4JKLjk6"
      }
    },
    {
      "cell_type": "markdown",
      "source": [
        "### Заданиче №3"
      ],
      "metadata": {
        "id": "JJZIPmHMGkdm"
      }
    },
    {
      "cell_type": "markdown",
      "source": [
        "Пусть линейный оператор задан матрицей:\n",
        "\n",
        "$$A=\\begin{pmatrix}\n",
        "1 & 1\\\\ \n",
        "-1 & 3\n",
        "\\end{pmatrix}.$$\n",
        "\n",
        "Установите, считается ли вектор $x=(1,1)$ собственным вектором этого линейного оператора."
      ],
      "metadata": {
        "id": "5dVWfvLDGlnQ"
      }
    },
    {
      "cell_type": "markdown",
      "source": [
        "\n",
        "Предположим, что вектор $x$ считается собственным вектором заданного линейного оператора, тогда должно существовать некоторое вещественное число $\\lambda$, при котором:\n",
        "\n",
        "$$\\begin{pmatrix}\n",
        "1 & 1\\\\ \n",
        "-1 & 3\n",
        "\\end{pmatrix}\n",
        "\\begin{pmatrix}\n",
        "1\\\\ \n",
        "1 \n",
        "\\end{pmatrix}=\n",
        "\\lambda\n",
        "\\begin{pmatrix}\n",
        "1\\\\ \n",
        "1\n",
        "\\end{pmatrix}.\n",
        "$$\n",
        "\n",
        "Из этого следует:\n",
        "\n",
        "$$\\begin{cases}\n",
        "1+1=1\\cdot\\lambda \\\\ \n",
        "-1+3 = 1\\cdot \\lambda\n",
        "\\end{cases}\n",
        "\\Rightarrow\n",
        "\\begin{cases}\n",
        "\\lambda=2\\\\ \n",
        "\\lambda=2\n",
        "\\end{cases}.$$\n",
        "\n",
        "Такая система имеет смысла, следовательно, вектор $x=(1,-2)$ считается собственным вектором линейного оператора, заданного матрицей $A$."
      ],
      "metadata": {
        "id": "MzkFQivHKQoh"
      }
    },
    {
      "cell_type": "markdown",
      "source": [
        "### Заданиче №4"
      ],
      "metadata": {
        "id": "wobl6p88Gl6l"
      }
    },
    {
      "cell_type": "markdown",
      "source": [],
      "metadata": {
        "id": "fp4ECqTvKoce"
      }
    },
    {
      "cell_type": "markdown",
      "source": [
        "Пусть линейный оператор задан матрицей:\n",
        "\n",
        "$$A=\\begin{pmatrix} 0 & 3 & 0\\\\ 3 & 0 & 0\\\\ 0 & 0 & 3 \\end{pmatrix}.$$\n",
        "\n",
        "Установите, считается ли вектор $x=(3, -3, -4)$ собственным вектором этого линейного оператора."
      ],
      "metadata": {
        "id": "e8PVezbfG2kk"
      }
    },
    {
      "cell_type": "markdown",
      "source": [
        "Предположим, что вектор $x$ считается собственным вектором заданного линейного оператора. Аналогично методике из предыдущего примера получим:\n",
        "\n",
        "$$\\begin{pmatrix}\n",
        "0 & 3 & 0\\\\ \n",
        "3 & 0 & 0\\\\\n",
        "0 & 0 & 3\n",
        "\\end{pmatrix}\n",
        "\\begin{pmatrix}\n",
        "3\\\\\n",
        "-3\\\\\n",
        "-4\n",
        "\\end{pmatrix}=\n",
        "\\lambda\n",
        "\\begin{pmatrix}\n",
        "3\\\\\n",
        "-3\\\\\n",
        "-4\n",
        "\\end{pmatrix}\n",
        "$$\n",
        "\n",
        "$$\\Rightarrow\n",
        "\\begin{cases}\n",
        "3\\lambda=9\\\\ \n",
        "-3\\lambda=-9\\\\\n",
        "-4\\lambda=-12\n",
        "\\end{cases}\n",
        "\\Rightarrow\n",
        "\\lambda=3.$$\n",
        "\n",
        "Таким образом, вектор $x=(3,-3,-4)$ считается собственным вектором линейного оператора, заданного матрицей $A$, и его собственное значение составляет $\\lambda=3.$"
      ],
      "metadata": {
        "id": "ptVMav4hKyjD"
      }
    },
    {
      "cell_type": "code",
      "execution_count": null,
      "metadata": {
        "id": "UJ9-iptKGUI1"
      },
      "outputs": [],
      "source": []
    }
  ]
}